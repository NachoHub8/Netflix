{
 "cells": [
  {
   "attachments": {},
   "cell_type": "markdown",
   "metadata": {},
   "source": [
    "# Proyecto de <span style=\"color:red\"> NETFLIX </span> \n",
    "\n",
    "\n",
    "    Realizado por Jose Ignacio Pérez España"
   ]
  },
  {
   "attachments": {},
   "cell_type": "markdown",
   "metadata": {},
   "source": [
    "# <span style=\"color:gold\"> Librerías </span> "
   ]
  },
  {
   "cell_type": "code",
   "execution_count": 1,
   "metadata": {},
   "outputs": [],
   "source": [
    "\"\"\"Importacion de librerias\"\"\" \n",
    "#mediante las siglas consensuadas por la comunidad de analistas y cientificos de datos:\n",
    "\n",
    "import os             #nos permite acceder a funcionalidades dependientes del Sistema Operativo.\n",
    "\n",
    "import csv #a pesar de que podemos leer los archivos csv con el atributo de pandas importamos csv para luego de reparar nulos guardar el dataframe.\n",
    "\n",
    "\"\"\"Carga, preprocesamiento y procesamiento de datos:\"\"\"\n",
    "\n",
    "import numpy as np   #Atributos matematicos. Conjunto de funciones matematicas esencial para el calculo cientifico y analisis de datos en python. Nota: a pesar de que se incorpora en pandas la importamos.\n",
    "\n",
    "import pandas as pd  #especializada en el manejo y análisis de estructuras de datos. Incluye funciones para realizar operaciones estadísticas y de agregación en los datos, así como para limpiar y preparar los datos para su análisis.\n",
    "\n",
    "import requests       # Utilizada para enviar solicitudes HTTP y HTTPS a servidores web. También proporciona funciones para enviar y recibir datos en diferentes formatos, como JSON, XML, entre otros.\n",
    "\n",
    "\n",
    "\"\"\"Visualización de datos:\"\"\"\n",
    "\n",
    "import plotly.express as px           #basada en la liberia plot\n",
    "\n",
    "import matplotlib.pyplot as plt       #Basada en la liberia mat\n",
    "\n",
    "import seaborn as sns                 #Basada en matplotlib pero permite mas personalización de los graficos. \n",
    "\n",
    "import streamlit as st      #Permite de manera sencilla e integrada desarrollar aplicaciones gracias a la interacción con otras librerías para su empleo."
   ]
  },
  {
   "attachments": {},
   "cell_type": "markdown",
   "metadata": {},
   "source": [
    "# <span style=\"color:gold\"> Carga del archivo del conjunto de datos </span> "
   ]
  },
  {
   "cell_type": "code",
   "execution_count": null,
   "metadata": {},
   "outputs": [],
   "source": [
    "\"\"\"Importacion de archivos a Python\"\"\""
   ]
  },
  {
   "attachments": {},
   "cell_type": "markdown",
   "metadata": {},
   "source": [
    "# <span style=\"color:gold\"> Preprocesamiento y Análisis exploratorio </span> \n",
    "\n",
    "    (nota: en los códigos las variables son en minúsculas, sin acentos ni \"ñ\")\n",
    "    \n",
    "    \n",
    "Primer paso: Metadatos del Conjunto de datos. \n",
    "\n",
    "Segundo paso: Reparacion de valores nulos y/o atipicos.\n",
    "\n",
    "Tercer paso: Analisis descriptivo de las variables\n",
    "\n",
    "Cuarto paso: Representacion grafica. "
   ]
  },
  {
   "attachments": {},
   "cell_type": "markdown",
   "metadata": {},
   "source": [
    "## <span style=\"color:gold\"> Primer paso: Metadatos del conjunto de datos.  </span> \n",
    "\n",
    "Se emplean los atributos basicos de pandas"
   ]
  },
  {
   "attachments": {},
   "cell_type": "markdown",
   "metadata": {},
   "source": [
    "## <span style=\"color:gold\"> Segundo paso: Reparación de valores nulos y/o atípicos </span> "
   ]
  },
  {
   "attachments": {},
   "cell_type": "markdown",
   "metadata": {},
   "source": [
    "¿Cuántos nulos y dónde?"
   ]
  },
  {
   "cell_type": "code",
   "execution_count": null,
   "metadata": {},
   "outputs": [],
   "source": [
    "df.isnull().sum().sum()   #total de nulos "
   ]
  },
  {
   "cell_type": "code",
   "execution_count": null,
   "metadata": {},
   "outputs": [],
   "source": [
    "#dónde\n",
    "nulos = df.isnull().sum()   #atributo de pandas para la localizacion de valores nulos. Ademas añadimos el atributo sum para sumar todos los que encuentre en cada variable-columna.\n",
    "nulos"
   ]
  },
  {
   "attachments": {},
   "cell_type": "markdown",
   "metadata": {},
   "source": [
    "Porcentaje"
   ]
  },
  {
   "cell_type": "code",
   "execution_count": null,
   "metadata": {},
   "outputs": [],
   "source": [
    "total_nulos = nulos.sum()\n",
    "print(\"el total de nulos del dataset es:\",total_nulos, \"nulos\")\n",
    "porcentaje_total_nulos= df.isnull().sum()*100/len(df) \n",
    "print(\"el porcentaje de nulos es de:\",porcentaje_total_nulos,\"%\")"
   ]
  },
  {
   "attachments": {},
   "cell_type": "markdown",
   "metadata": {},
   "source": [
    "Distribución de nulos: Mapa de calor"
   ]
  },
  {
   "cell_type": "code",
   "execution_count": null,
   "metadata": {},
   "outputs": [],
   "source": [
    "#Aplicamos un mapa de calor ya que son los mas recomendables para visualizar los valores nulos. Con ello visualizamos la distribucion, podemos comprobar patrones y tendencias.\n",
    "sns.heatmap(data=df.isnull(), yticklabels=False, cbar=False) "
   ]
  },
  {
   "attachments": {},
   "cell_type": "markdown",
   "metadata": {},
   "source": [
    "Reparación de los valores nulos"
   ]
  },
  {
   "cell_type": "code",
   "execution_count": null,
   "metadata": {},
   "outputs": [],
   "source": [
    "#funcion para la moda.\n",
    "#source: Demetrio\n",
    "def reparacion_columna (df, column) :\n",
    "\n",
    "\n",
    "\n",
    "    coltype = df[column].dtype\n",
    "\n",
    "\n",
    "\n",
    "    if coltype == 'object':\n",
    "\n",
    "        print(\"Repara: {};con la moda\".format(column))\n",
    "\n",
    "        df.fillna(df[column].mode()[0], inplace=True)\n",
    "\n",
    "\n",
    "\n",
    "    elif (coltype == 'int64') | (coltype == 'float64') | (coltype == 'float') | (coltype == 'int'):\n",
    "\n",
    "        if df[column].mean() > 30:\n",
    "\n",
    "            print(\"Repara: {};con la mediana\".format(column))\n",
    "\n",
    "            df.fillna(df[column].median(), inplace=True)\n",
    "\n",
    "        else:\n",
    "\n",
    "            print(\"Repara: {};con la media\".format(column))\n",
    "\n",
    "            df.fillna(df[column].mean(), inplace=True)\n",
    "\n",
    "    else:\n",
    "\n",
    "        print(\"Datos {} sin remedio\".format(column))"
   ]
  },
  {
   "cell_type": "code",
   "execution_count": null,
   "metadata": {},
   "outputs": [],
   "source": [
    "reparacion_columna(df, \"nombre_variable\")     #añadimos los parametros del dataset a la función de la celda anterior"
   ]
  },
  {
   "cell_type": "code",
   "execution_count": null,
   "metadata": {},
   "outputs": [],
   "source": [
    "dataframe_reparado.to_csv(\"dataframe_reparado\") #guardamos el dataframe reparado"
   ]
  },
  {
   "attachments": {},
   "cell_type": "markdown",
   "metadata": {},
   "source": [
    "## <span style=\"color:gold\">Tercer paso: Analisis descriptivo de las variables</span>\n",
    "\n",
    "\n",
    "    "
   ]
  },
  {
   "attachments": {},
   "cell_type": "markdown",
   "metadata": {},
   "source": [
    "Medidas de centralización"
   ]
  },
  {
   "cell_type": "code",
   "execution_count": null,
   "metadata": {},
   "outputs": [],
   "source": [
    "df[\"variable\"].mean()\n",
    "df[\"variable\"].median()\n",
    "df[\"variable\"].mode()\n",
    "\n",
    "from statistics import multimode                #tambien vale para variables nominales(valores cualitativas)\n",
    "print(multimode(variable)) "
   ]
  },
  {
   "attachments": {},
   "cell_type": "markdown",
   "metadata": {},
   "source": [
    "Medidas de centralización y Medidas de dispersión"
   ]
  },
  {
   "cell_type": "code",
   "execution_count": null,
   "metadata": {},
   "outputs": [],
   "source": [
    ".describe()"
   ]
  },
  {
   "attachments": {},
   "cell_type": "markdown",
   "metadata": {},
   "source": [
    "Funciones de la Media y de la Desviación típica-estándar"
   ]
  },
  {
   "cell_type": "code",
   "execution_count": null,
   "metadata": {},
   "outputs": [],
   "source": [
    "from math import sqrt\n",
    "def desv_estandar(valores, media):\n",
    "    suma = 0\n",
    "    for valor in valores:\n",
    "        suma += (valor - media) **2\n",
    "    radicando = suma / (len(valores) -1)\n",
    "    return sqrt(radicando)\n",
    "\n",
    "def calcular_media(valores):\n",
    "    suma =0\n",
    "    for valor in valores:\n",
    "        suma +=valor\n",
    "    return suma / len(valores)\n",
    "\n",
    "if __name__ == \"__main__\":\n",
    "    numeros = (7,3,13,17,10,8,12,9)\n",
    "    media = calcular_media(numeros)\n",
    "    resultado = desv_estandar(numeros, media)\n",
    "    print(\"la desv estandar es: {}\" .format(resultado))"
   ]
  },
  {
   "attachments": {},
   "cell_type": "markdown",
   "metadata": {},
   "source": [
    "Medidas de dispersión y Medidas de forma"
   ]
  },
  {
   "cell_type": "code",
   "execution_count": null,
   "metadata": {},
   "outputs": [],
   "source": [
    "supervivientes = tt[\"supervivientes\"].var()    #varianza\n",
    "#teniendo la funcion de la desv solo tendriamos que elevarla al cuadrado. \n",
    "supervivientes = tt[\"supervivientes\"].std()    #desv. tipica o estandar\n",
    "\n",
    "supervivientes = tt[\"supervivientes\"].kurt()   #c.c.\n",
    "\n",
    "supervivientes = tt[\"supervivientes\"].skew()   #c.a.\n",
    "\n",
    "cv = np.std(data) / np.mean(data) * 100        #c.v.\n",
    "print(cv)\n",
    "\n",
    "#El CV es una forma de medir qué tan dispersos están los valores en un conjunto de datos en relación con la media. En términos sencillos, el coeficiente de variación es simplemente la relación entre la desviación estándar y la media.\n",
    "#El CV se usa a menudo para comparar la variación entre dos conjuntos de datos diferentes."
   ]
  },
  {
   "attachments": {},
   "cell_type": "markdown",
   "metadata": {},
   "source": [
    "Frecuencia y Distribución de una variable"
   ]
  },
  {
   "cell_type": "code",
   "execution_count": null,
   "metadata": {},
   "outputs": [],
   "source": [
    "dist_s = tt[\"supervivientes\"].value_counts()\n",
    "dist_s"
   ]
  },
  {
   "attachments": {},
   "cell_type": "markdown",
   "metadata": {},
   "source": [
    "## <span style=\"color:gold\">Cuarto paso: análisis bivariante y multivariante. Y Representación gráfica</span>"
   ]
  },
  {
   "attachments": {},
   "cell_type": "markdown",
   "metadata": {},
   "source": [
    "### <span style=\"color:gold\"> Matriz de correlaciones </span>\n"
   ]
  },
  {
   "cell_type": "code",
   "execution_count": null,
   "metadata": {},
   "outputs": [],
   "source": [
    "matriz_c = df.corr()\n",
    "plt.figure(figsize=(10,10))\n",
    "sns.heatmap(matriz_c, annot=True,annot_kws={\"size\": 10}, vmin=-1.0, vmax=1.0,cmap=\"Spectral\")"
   ]
  },
  {
   "attachments": {},
   "cell_type": "markdown",
   "metadata": {},
   "source": [
    "# <span style=\"color:gold\"> Página web </span>"
   ]
  },
  {
   "attachments": {},
   "cell_type": "markdown",
   "metadata": {},
   "source": [
    "# <span style=\"color:gold\"> Conclusiones </span>"
   ]
  }
 ],
 "metadata": {
  "kernelspec": {
   "display_name": "upgrade_analytics",
   "language": "python",
   "name": "python3"
  },
  "language_info": {
   "codemirror_mode": {
    "name": "ipython",
    "version": 3
   },
   "file_extension": ".py",
   "mimetype": "text/x-python",
   "name": "python",
   "nbconvert_exporter": "python",
   "pygments_lexer": "ipython3",
   "version": "3.9.13"
  },
  "orig_nbformat": 4,
  "vscode": {
   "interpreter": {
    "hash": "158163acb322b52b8eb39442d9c19c07441712e5956cd2a57144cfd71891e911"
   }
  }
 },
 "nbformat": 4,
 "nbformat_minor": 2
}
